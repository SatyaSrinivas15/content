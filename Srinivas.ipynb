{
  "nbformat": 4,
  "nbformat_minor": 0,
  "metadata": {
    "colab": {
      "provenance": [],
      "authorship_tag": "ABX9TyPVmRJkBY/FR4RvyggrOYpL",
      "include_colab_link": true
    },
    "kernelspec": {
      "name": "python3",
      "display_name": "Python 3"
    },
    "language_info": {
      "name": "python"
    }
  },
  "cells": [
    {
      "cell_type": "markdown",
      "metadata": {
        "id": "view-in-github",
        "colab_type": "text"
      },
      "source": [
        "<a href=\"https://colab.research.google.com/github/SatyaSrinivas15/content/blob/main/Srinivas.ipynb\" target=\"_parent\"><img src=\"https://colab.research.google.com/assets/colab-badge.svg\" alt=\"Open In Colab\"/></a>"
      ]
    },
    {
      "cell_type": "code",
      "source": [
        "principal = float(input(\"Enter the principal amount: \"))\n",
        "rate = float(input(\"Enter the rate of interest: \"))\n",
        "time = float(input(\"Enter the time in years: \"))\n",
        "compound_interest = principal * ((1 + rate/100) ** time) - principal\n",
        "print(\"The compound interest is:\", compound interest)"
      ],
      "metadata": {
        "id": "cTAI9_dUlmYK"
      },
      "execution_count": null,
      "outputs": []
    },
    {
      "cell_type": "code",
      "source": [
        "def calculate_total_cost(x, y):\n",
        "return x* y\n",
        "t = int(input(\"Enter the number of test cases: \"))\n",
        "for_in range(t):\n",
        "x, y = map(int, input().split())\n",
        "total_amount = calculate_total_cost(x, y)\n",
        "print(total_amount)"
      ],
      "metadata": {
        "id": "vQw0er9alpVR"
      },
      "execution_count": null,
      "outputs": []
    },
    {
      "cell_type": "code",
      "source": [
        "def calculate area in acres(radius in feet):\n",
        "area_in_acres = math.pi * (radius_in_feet**2) / 43560\n",
        "return area_in_acres\n",
        "radius in feet = float(input(\"Enter the radius of the field in feet: \"))\n",
        "area_in_acres = calculate_area_in_acres(radius_in_feet)\n",
        "print(f \"The area of the field is: {area_in_acres:.2f) acres\")"
      ],
      "metadata": {
        "id": "LaMzzGOWmTHc"
      },
      "execution_count": null,
      "outputs": []
    },
    {
      "cell_type": "code",
      "source": [
        "SQFT_PER_ACRE = 43560\n",
        "\n",
        "length = float (input (\"Enter the length of the field in feet: \"))\n",
        "\n",
        "width = float (input (\"Enter the width of the field in feet: \"))\n",
        "\n",
        "acres = length * width / SQFT_PER_ACRE\n",
        "\n",
        "print (\"The area of the field is\", acres, \"acres\")"
      ],
      "metadata": {
        "id": "irawei1im4lA"
      },
      "execution_count": null,
      "outputs": []
    },
    {
      "cell_type": "code",
      "source": [
        "import math\n",
        "\n",
        "\n",
        "def calculate_distance(x1, y1, x2, y2):\n",
        "\n",
        "\n",
        "distance = math.sqrt((x2 -x1)*2+ (y2 - y1)*2)\n",
        "\n",
        "\n",
        "return distance\n",
        "\n",
        "x_ram = float(input(\"Enter the X-coordinate of Ram: \"))\n",
        "\n",
        "\n",
        "y_ram = float(input(\"Enter the Y-coordinate of Ram: \"))\n",
        "\n",
        "\n",
        "x_sita = float(input(\"Enter the X-coordinate of Sita: \"))\n",
        "\n",
        "\n",
        "y_sita = float(input(\"Enter the Y-coordinate of Sita: \"))\n",
        "\n",
        "\n",
        "distance_between_them = calculate_distance(x_ram, y_ram, x_sita, y_sita)\n",
        "\n",
        "\n",
        "print(f\"The distance between Ram and Sita is: {distance between them:.2f}\")"
      ],
      "metadata": {
        "id": "YCAzaOa0mjGR"
      },
      "execution_count": null,
      "outputs": []
    }
  ]
}