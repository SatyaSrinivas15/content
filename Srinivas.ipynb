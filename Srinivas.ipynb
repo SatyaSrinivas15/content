{
  "nbformat": 4,
  "nbformat_minor": 0,
  "metadata": {
    "colab": {
      "provenance": [],
      "authorship_tag": "ABX9TyMQCON+Fpu5ahxfoMb6acf8",
      "include_colab_link": true
    },
    "kernelspec": {
      "name": "python3",
      "display_name": "Python 3"
    },
    "language_info": {
      "name": "python"
    }
  },
  "cells": [
    {
      "cell_type": "markdown",
      "metadata": {
        "id": "view-in-github",
        "colab_type": "text"
      },
      "source": [
        "<a href=\"https://colab.research.google.com/github/SatyaSrinivas15/content/blob/main/Srinivas.ipynb\" target=\"_parent\"><img src=\"https://colab.research.google.com/assets/colab-badge.svg\" alt=\"Open In Colab\"/></a>"
      ]
    },
    {
      "cell_type": "code",
      "source": [
        "import datetime\n",
        "\n",
        "input_date = input(\"Enter the date in MM DD YYYY format: \")\n",
        "month, day, year = map(int, input_date.split())\n",
        "\n",
        "if 2000 < year < 3000:\n",
        "    x = datetime.datetime(year, month, day)\n",
        "    day_name = x.strftime(\"%A\").upper()\n",
        "    print(day_name)\n",
        "else:\n",
        "    print(\"Year is not within the specified constraints.\")\n"
      ],
      "metadata": {
        "id": "F_C8a2Sqr0Pc"
      },
      "execution_count": null,
      "outputs": []
    },
    {
      "cell_type": "code",
      "source": [
        "from math import pow\n",
        "\n",
        "def compute_armstrong(x):\n",
        "    n = len(str(x))\n",
        "    armstrong_sum = sum(pow(int(i), n) for i in str(x))\n",
        "    return armstrong_sum == x\n",
        "\n",
        "number = int(input(\"Enter a number: \"))\n",
        "\n",
        "if compute_armstrong(number):\n",
        "    print(f\"{number} is an Armstrong number\")\n",
        "else:\n",
        "    print(f\"{number} is not an Armstrong number\")\n"
      ],
      "metadata": {
        "id": "V20qUBdYr1hB"
      },
      "execution_count": null,
      "outputs": []
    },
    {
      "cell_type": "code",
      "source": [
        "euclidean_distance_module.py import math\n",
        "\n",
        "def edistance(x, y):\n",
        "  distance = math.sqrt((y[0] - x[0])**2 + (y[1] - x[1])**2)\n",
        "  return distance\n",
        "\n",
        "\n",
        "3d.py\n",
        "from euclidean_distance_module import edistance\n",
        "\n",
        "X\t= (1, 3)\n",
        "Y\t= (2, 3)\n",
        "\n",
        "result = edistance(X, Y) print(\"Euclidean distance between X and Y:\", result)\n"
      ],
      "metadata": {
        "id": "JfNPY3Owr_3-"
      },
      "execution_count": null,
      "outputs": []
    },
    {
      "cell_type": "code",
      "source": [
        "Mod1.py\n",
        "def display():\n",
        " \tprint(\"Hello World\")\n",
        "\n",
        "Mod2.py\n",
        "def sum(a, b):\n",
        " \treturn a+b\n",
        "sample_task3.py\n",
        "from T3 import mod1\n",
        "from T3 import mod2\n",
        "mod1.display()\n",
        "res = mod2.sum(1, 2)\n",
        "print(res)\n"
      ],
      "metadata": {
        "id": "EFx4ez0AsqFT"
      },
      "execution_count": null,
      "outputs": []
    }
  ]
}