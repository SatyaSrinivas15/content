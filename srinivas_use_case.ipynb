{
  "nbformat": 4,
  "nbformat_minor": 0,
  "metadata": {
    "colab": {
      "provenance": [],
      "authorship_tag": "ABX9TyOLaf1kShMHyYeSaNIQTARc",
      "include_colab_link": true
    },
    "kernelspec": {
      "name": "python3",
      "display_name": "Python 3"
    },
    "language_info": {
      "name": "python"
    }
  },
  "cells": [
    {
      "cell_type": "markdown",
      "metadata": {
        "id": "view-in-github",
        "colab_type": "text"
      },
      "source": [
        "<a href=\"https://colab.research.google.com/github/SatyaSrinivas15/content/blob/main/srinivas_use_case.ipynb\" target=\"_parent\"><img src=\"https://colab.research.google.com/assets/colab-badge.svg\" alt=\"Open In Colab\"/></a>"
      ]
    },
    {
      "cell_type": "code",
      "execution_count": null,
      "metadata": {
        "id": "7rFW53oSQl4e"
      },
      "outputs": [],
      "source": [
        "import numpy as np\n",
        "num_rolls = int(input(\"Enter the number of dice rolls: \"))\n",
        "dice_rolls = np.random.randint(1, 7, size=num_rolls)\n",
        "print(\"Dice roll outcomes:\")\n",
        "print(dice_rolls)\n",
        "print(\"\\nFrequency of each face:\")\n",
        "for i in range(1, 7):\n",
        "    print(f\"{i}: {(dice_rolls == i).sum()} times\")"
      ]
    }
  ]
}